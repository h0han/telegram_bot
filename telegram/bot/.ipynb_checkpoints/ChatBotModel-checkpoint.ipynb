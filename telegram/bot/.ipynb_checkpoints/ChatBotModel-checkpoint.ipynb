{
 "cells": [
  {
   "cell_type": "code",
   "execution_count": 1,
   "id": "ab8a22f3",
   "metadata": {},
   "outputs": [],
   "source": [
    "import telegram\n",
    "from telegram.ext import Updater, CommandHandler"
   ]
  },
  {
   "cell_type": "code",
   "execution_count": 2,
   "id": "bb77b3e7",
   "metadata": {},
   "outputs": [],
   "source": [
    "class TelegramBot:\n",
    "    def __init__(self, name, token):\n",
    "        self.core = telegram.Bot(token)\n",
    "        self.updater = Updater(token)\n",
    "        self.id = 2120604508\n",
    "        self.name = name\n",
    "\n",
    "    def sendMessage(self, text):\n",
    "        self.core.sendMessage(chat_id = self.id, text=text)\n",
    "\n",
    "    def stop(self):\n",
    "        self.updater.start_polling()\n",
    "        self.updater.dispatcher.stop()\n",
    "        self.updater.job_queue.stop()\n",
    "        self.updater.stop()"
   ]
  },
  {
   "cell_type": "code",
   "execution_count": 5,
   "id": "0c842768",
   "metadata": {},
   "outputs": [],
   "source": [
    "class BotHermes(TelegramBot):\n",
    "    def __init__(self):\n",
    "        self.token = '5048073346:AAF-MK3hv3K8d5MdR8PgCcukUU3qrEcO3r0'\n",
    "        TelegramBot.__init__(self, 'hermes', self.token)\n",
    "        self.updater.stop()\n",
    "\n",
    "    def add_handler(self, cmd, func):\n",
    "        self.updater.dispatcher.add_handler(CommandHandler(cmd, func))\n",
    "\n",
    "    def start(self):\n",
    "        self.sendMessage('Get $LUCK & Getting Lucky!')\n",
    "        self.updater.start_polling()\n",
    "        self.updater.idle()"
   ]
  },
  {
   "cell_type": "code",
   "execution_count": null,
   "id": "947422ac",
   "metadata": {},
   "outputs": [],
   "source": []
  },
  {
   "cell_type": "code",
   "execution_count": null,
   "id": "501834c2",
   "metadata": {},
   "outputs": [],
   "source": []
  }
 ],
 "metadata": {
  "kernelspec": {
   "display_name": "Python 3 (ipykernel)",
   "language": "python",
   "name": "python3"
  },
  "language_info": {
   "codemirror_mode": {
    "name": "ipython",
    "version": 3
   },
   "file_extension": ".py",
   "mimetype": "text/x-python",
   "name": "python",
   "nbconvert_exporter": "python",
   "pygments_lexer": "ipython3",
   "version": "3.9.9"
  }
 },
 "nbformat": 4,
 "nbformat_minor": 5
}
