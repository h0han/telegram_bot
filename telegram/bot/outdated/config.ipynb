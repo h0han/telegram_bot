{
 "cells": [
  {
   "cell_type": "code",
   "execution_count": null,
   "id": "e84da5ea",
   "metadata": {},
   "outputs": [],
   "source": [
    "BOTNAME = \"hermes\"\n",
    "TOKEN = \"5035520069:AAHXrviXBFO9didF_6HEpE1WhBeLuw-rTUM\""
   ]
  }
 ],
 "metadata": {
  "kernelspec": {
   "display_name": "Python 3 (ipykernel)",
   "language": "python",
   "name": "python3"
  },
  "language_info": {
   "codemirror_mode": {
    "name": "ipython",
    "version": 3
   },
   "file_extension": ".py",
   "mimetype": "text/x-python",
   "name": "python",
   "nbconvert_exporter": "python",
   "pygments_lexer": "ipython3",
   "version": "3.9.9"
  }
 },
 "nbformat": 4,
 "nbformat_minor": 5
}
